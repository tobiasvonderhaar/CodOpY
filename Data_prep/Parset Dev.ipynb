{
 "cells": [
  {
   "cell_type": "code",
   "execution_count": 4,
   "id": "97668be3-b7dd-4d2f-87ee-0ee68a5601bf",
   "metadata": {},
   "outputs": [],
   "source": [
    "import pandas as pd"
   ]
  },
  {
   "cell_type": "code",
   "execution_count": 33,
   "id": "f1b4dcbb-d09e-4083-8c72-f78594560883",
   "metadata": {},
   "outputs": [
    {
     "name": "stdout",
     "output_type": "stream",
     "text": [
      "New parset created\n"
     ]
    }
   ],
   "source": [
    "class Parset():\n",
    "    def __init__(self):\n",
    "        self.ref_table = 'Scer'\n",
    "        self.objective = 'decoding.time'\n",
    "        self.objective_function = min\n",
    "        self.diversify = []\n",
    "        self.diversify_range = 2\n",
    "        self.diversify_amino_acid_repeats = True\n",
    "        self.enforce = {}\n",
    "        self.exclude_REs = []\n",
    "        self.reduce_speed_at = ()\n",
    "        self.reduce_speed_by = 0\n",
    "        self.reduce_expression_by = 0\n",
    "        \n",
    "    def __repr__(self):\n",
    "        return 'This is a Parset instance containing a CodOpY parameterset.'\n",
    "    \n",
    "    def __str__(self):\n",
    "        printable_attributes = [item for item in dir(self) if '__' not in item]\n",
    "        print('The parameters in this Parset instance are \\n')\n",
    "        for attr in printable_attributes:\n",
    "            print(attr + ': ' + str(getattr(self,attr)))\n",
    "        return ''\n",
    "\n",
    "del(parset)    \n",
    "try:\n",
    "    parset.__repr__() == 'This is a Parset instance containing a CodOpY parameterset.'\n",
    "except:\n",
    "    parset = Parset()\n",
    "    print('New parset created')"
   ]
  },
  {
   "cell_type": "code",
   "execution_count": 54,
   "id": "38c6ff9e-0e09-4652-804e-b24ec270a71d",
   "metadata": {},
   "outputs": [
    {
     "name": "stdout",
     "output_type": "stream",
     "text": [
      "The parameters in the current Parset instance are \n",
      "\n",
      "diversify: []\n",
      "diversify_amino_acid_repeats: True\n",
      "diversify_range: 2\n",
      "enforce: {}\n",
      "exclude_REs: []\n",
      "objective: decoding.time\n",
      "objective_function: <built-in function min>\n",
      "reduce_expression_by: 0\n",
      "reduce_speed_at: ()\n",
      "reduce_speed_by: 0\n",
      "ref_table: Scer\n",
      "\n"
     ]
    }
   ],
   "source": [
    "print(parset)"
   ]
  },
  {
   "cell_type": "code",
   "execution_count": 53,
   "id": "48ccc12a-76db-4b1a-8415-0a2038e1869a",
   "metadata": {},
   "outputs": [],
   "source": [
    "parset = Parset()"
   ]
  },
  {
   "cell_type": "code",
   "execution_count": 37,
   "id": "d0584b86-401f-49b9-913a-6872890a28ee",
   "metadata": {},
   "outputs": [],
   "source": [
    "test()"
   ]
  },
  {
   "cell_type": "code",
   "execution_count": 41,
   "id": "93f0277f-7d74-49cc-a4ed-dc9148da9f77",
   "metadata": {},
   "outputs": [],
   "source": [
    "num_list = [1,2,3,4,5]\n",
    "num_list.remove(3)"
   ]
  },
  {
   "cell_type": "code",
   "execution_count": 42,
   "id": "74827df5-3d4f-4c56-878d-b3263674a257",
   "metadata": {},
   "outputs": [
    {
     "data": {
      "text/plain": [
       "[1, 2, 4, 5]"
      ]
     },
     "execution_count": 42,
     "metadata": {},
     "output_type": "execute_result"
    }
   ],
   "source": [
    "num_list"
   ]
  },
  {
   "cell_type": "code",
   "execution_count": 43,
   "id": "d1b2f40a-fbed-45f4-a346-30dc1eecd6a6",
   "metadata": {},
   "outputs": [],
   "source": [
    "test = {'A':'a','B':'b'}"
   ]
  },
  {
   "cell_type": "code",
   "execution_count": 47,
   "id": "a98bc01b-2383-4e94-a01d-dedf95ec5127",
   "metadata": {},
   "outputs": [
    {
     "data": {
      "text/plain": [
       "3"
      ]
     },
     "execution_count": 47,
     "metadata": {},
     "output_type": "execute_result"
    }
   ],
   "source": [
    "y = 'a;b;c'\n",
    "y = y.split(';')\n",
    "len(y)"
   ]
  },
  {
   "cell_type": "code",
   "execution_count": null,
   "id": "799c9e85-c6d8-4ba3-acc5-24e1a6054a0e",
   "metadata": {},
   "outputs": [],
   "source": []
  },
  {
   "cell_type": "code",
   "execution_count": null,
   "id": "baa1e914-c549-4902-b67b-f6c6e8f5ef01",
   "metadata": {},
   "outputs": [],
   "source": []
  },
  {
   "cell_type": "code",
   "execution_count": null,
   "id": "8716565a-075d-4df6-8cff-7c486e854aa9",
   "metadata": {},
   "outputs": [],
   "source": []
  },
  {
   "cell_type": "code",
   "execution_count": null,
   "id": "2e1f9d72-ebfd-40d0-adef-95c492290bf8",
   "metadata": {},
   "outputs": [],
   "source": []
  },
  {
   "cell_type": "code",
   "execution_count": null,
   "id": "f7864a71-5e49-4cdc-b1ad-c4126a9dbfac",
   "metadata": {},
   "outputs": [],
   "source": []
  }
 ],
 "metadata": {
  "kernelspec": {
   "display_name": "Python 3 (ipykernel)",
   "language": "python",
   "name": "python3"
  },
  "language_info": {
   "codemirror_mode": {
    "name": "ipython",
    "version": 3
   },
   "file_extension": ".py",
   "mimetype": "text/x-python",
   "name": "python",
   "nbconvert_exporter": "python",
   "pygments_lexer": "ipython3",
   "version": "3.7.11"
  }
 },
 "nbformat": 4,
 "nbformat_minor": 5
}
