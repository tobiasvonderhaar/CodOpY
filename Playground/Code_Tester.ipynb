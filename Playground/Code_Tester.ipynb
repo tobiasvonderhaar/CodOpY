{
 "cells": [
  {
   "cell_type": "code",
   "execution_count": 39,
   "metadata": {},
   "outputs": [
    {
     "data": {
      "text/plain": [
       "'GGAGGGGGGGGGGGAGGG'"
      ]
     },
     "execution_count": 39,
     "metadata": {},
     "output_type": "execute_result"
    }
   ],
   "source": [
    "optimise_by=['decoding.time',max]\n",
    "diversify=['G']\n",
    "diversify_range=0.3\n",
    "read_file = 'Scer.csv'\n",
    "seq  = 'GGGGGG'\n",
    "import pandas as pd\n",
    "import random\n",
    "\n",
    "\n",
    "\n",
    "parameterset = pd.read_csv(read_file)\n",
    "\n",
    "#define the reverse translation dictionary: which codons should be considered for which amino acid?\n",
    "#if an amino acid is not in the diversify list, use the fastest codon\n",
    "#if an amino acid is in the diversify list, diversify codon choice by random draw from all codons for which the diversify_range threshold applies\n",
    "reverse_dict = {}\n",
    "for aa in codons['one.letter'].unique():\n",
    "    codons_for_aa = parameterset.loc[codons['one.letter']==aa]\n",
    "    if aa in diversify:\n",
    "        if optimise_by[1] == min:\n",
    "            diversify_threshold = min(codons_for_aa[optimise_by[0]]) * (1 + diversify_range)\n",
    "            acceptable_codons_for_aa = list(codons_for_aa.loc[codons_for_aa['decoding.time']<diversify_threshold]['codon'])\n",
    "        elif optimise_by[1] == max:\n",
    "            diversify_threshold = max(codons_for_aa[optimise_by[0]]) * (1 - diversify_range)\n",
    "            acceptable_codons_for_aa = list(codons_for_aa.loc[codons_for_aa['decoding.time']>diversify_threshold]['codon'])\n",
    "        else:\n",
    "            return\n",
    "    else:\n",
    "        best_decoding_time_for_aa = optimise_by[1](codons_for_aa['decoding.time'])\n",
    "        acceptable_codons_for_aa = list(codons_for_aa.loc[codons_for_aa['decoding.time']==best_decoding_time_for_aa]['codon'])\n",
    "    reverse_dict[aa] = acceptable_codons_for_aa\n",
    "codon_seq = []\n",
    "for seq_aa in seq:\n",
    "    codon_seq.append(random.choice(reverse_dict[seq_aa]))\n",
    "return ''.join(codon_seq).replace('U','T')"
   ]
  },
  {
   "cell_type": "code",
   "execution_count": 36,
   "metadata": {},
   "outputs": [],
   "source": [
    "codons_for_aa = parameterset.loc[codons['one.letter']=='I']"
   ]
  },
  {
   "cell_type": "code",
   "execution_count": 25,
   "metadata": {},
   "outputs": [
    {
     "data": {
      "text/html": [
       "<div>\n",
       "<style scoped>\n",
       "    .dataframe tbody tr th:only-of-type {\n",
       "        vertical-align: middle;\n",
       "    }\n",
       "\n",
       "    .dataframe tbody tr th {\n",
       "        vertical-align: top;\n",
       "    }\n",
       "\n",
       "    .dataframe thead th {\n",
       "        text-align: right;\n",
       "    }\n",
       "</style>\n",
       "<table border=\"1\" class=\"dataframe\">\n",
       "  <thead>\n",
       "    <tr style=\"text-align: right;\">\n",
       "      <th></th>\n",
       "      <th>codon</th>\n",
       "      <th>three.letter</th>\n",
       "      <th>one.letter</th>\n",
       "      <th>decoding.time</th>\n",
       "      <th>Frequency</th>\n",
       "      <th>tAI</th>\n",
       "    </tr>\n",
       "  </thead>\n",
       "  <tbody>\n",
       "    <tr>\n",
       "      <th>12</th>\n",
       "      <td>AUA</td>\n",
       "      <td>Ile</td>\n",
       "      <td>I</td>\n",
       "      <td>0.595</td>\n",
       "      <td>0.28</td>\n",
       "      <td>0.123233</td>\n",
       "    </tr>\n",
       "    <tr>\n",
       "      <th>13</th>\n",
       "      <td>AUC</td>\n",
       "      <td>Ile</td>\n",
       "      <td>I</td>\n",
       "      <td>0.087</td>\n",
       "      <td>0.26</td>\n",
       "      <td>0.576355</td>\n",
       "    </tr>\n",
       "    <tr>\n",
       "      <th>15</th>\n",
       "      <td>AUU</td>\n",
       "      <td>Ile</td>\n",
       "      <td>I</td>\n",
       "      <td>0.086</td>\n",
       "      <td>0.46</td>\n",
       "      <td>0.800493</td>\n",
       "    </tr>\n",
       "  </tbody>\n",
       "</table>\n",
       "</div>"
      ],
      "text/plain": [
       "   codon three.letter one.letter  decoding.time  Frequency       tAI\n",
       "12   AUA          Ile          I          0.595       0.28  0.123233\n",
       "13   AUC          Ile          I          0.087       0.26  0.576355\n",
       "15   AUU          Ile          I          0.086       0.46  0.800493"
      ]
     },
     "execution_count": 25,
     "metadata": {},
     "output_type": "execute_result"
    }
   ],
   "source": [
    "codons_for_aa"
   ]
  },
  {
   "cell_type": "code",
   "execution_count": 29,
   "metadata": {},
   "outputs": [
    {
     "data": {
      "text/plain": [
       "False"
      ]
     },
     "execution_count": 29,
     "metadata": {},
     "output_type": "execute_result"
    }
   ],
   "source": [
    "optimise_by[1] == min"
   ]
  },
  {
   "cell_type": "code",
   "execution_count": null,
   "metadata": {},
   "outputs": [],
   "source": []
  }
 ],
 "metadata": {
  "kernelspec": {
   "display_name": "Python 3",
   "language": "python",
   "name": "python3"
  },
  "language_info": {
   "codemirror_mode": {
    "name": "ipython",
    "version": 3
   },
   "file_extension": ".py",
   "mimetype": "text/x-python",
   "name": "python",
   "nbconvert_exporter": "python",
   "pygments_lexer": "ipython3",
   "version": "3.7.6"
  }
 },
 "nbformat": 4,
 "nbformat_minor": 4
}
